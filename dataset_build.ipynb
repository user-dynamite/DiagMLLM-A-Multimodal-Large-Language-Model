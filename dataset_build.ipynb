{
 "cells": [
  {
   "cell_type": "code",
   "execution_count": 15,
   "metadata": {},
   "outputs": [
    {
     "name": "stdout",
     "output_type": "stream",
     "text": [
      "겹치는 ID를 포함한 데이터가 ../data/data_csv/fold4_val.csv 파일에 저장되었습니다.\n"
     ]
    }
   ],
   "source": [
    "import pandas as pd\n",
    "\n",
    "# CSV 파일과 텍스트 파일 경로 설정\n",
    "csv_file_path = '../data/All_data_fin.csv'\n",
    "text_file_path = '../data/fold/fold4_val.txt'\n",
    "output_csv_path = '../data/data_csv/fold4_val.csv'\n",
    "\n",
    "# CSV 파일 읽기\n",
    "df = pd.read_csv(csv_file_path, encoding='cp949')\n",
    "\n",
    "# 텍스트 파일에서 ID 값 읽기\n",
    "with open(text_file_path, 'r') as file:\n",
    "    test_ids = set(file.read().splitlines())\n",
    "\n",
    "# 겹치는 ID 찾기\n",
    "matching_ids = df[df['ID'].isin(test_ids)]\n",
    "\n",
    "# 결과를 CSV 파일로 저장\n",
    "matching_ids.to_csv(output_csv_path, index=False, encoding=\"utf-8\")\n",
    "\n",
    "print(f\"겹치는 ID를 포함한 데이터가 {output_csv_path} 파일에 저장되었습니다.\")\n"
   ]
  },
  {
   "cell_type": "code",
   "execution_count": 2,
   "metadata": {},
   "outputs": [
    {
     "name": "stdout",
     "output_type": "stream",
     "text": [
      "겹치는 ID를 포함한 데이터가 ../data/All_data_fin_external_utf_8.csv 파일에 저장되었습니다.\n"
     ]
    }
   ],
   "source": [
    "import pandas as pd\n",
    "\n",
    "# CSV 파일과 텍스트 파일 경로 설정\n",
    "csv_file_path = '../data/All_data_fin_external.csv'\n",
    "output_csv_path = '../data/All_data_fin_external_utf_8.csv'\n",
    "\n",
    "# CSV 파일 읽기\n",
    "df = pd.read_csv(csv_file_path, encoding='cp949')\n",
    "\n",
    "# 결과를 CSV 파일로 저장\n",
    "df.to_csv(output_csv_path, index=False, encoding=\"utf-8\")\n",
    "\n",
    "print(f\"겹치는 ID를 포함한 데이터가 {output_csv_path} 파일에 저장되었습니다.\")\n"
   ]
  }
 ],
 "metadata": {
  "kernelspec": {
   "display_name": "LeeYS",
   "language": "python",
   "name": "python3"
  },
  "language_info": {
   "codemirror_mode": {
    "name": "ipython",
    "version": 3
   },
   "file_extension": ".py",
   "mimetype": "text/x-python",
   "name": "python",
   "nbconvert_exporter": "python",
   "pygments_lexer": "ipython3",
   "version": "3.9.0"
  }
 },
 "nbformat": 4,
 "nbformat_minor": 2
}
